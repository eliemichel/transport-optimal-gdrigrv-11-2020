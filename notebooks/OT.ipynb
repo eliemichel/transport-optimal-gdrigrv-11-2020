{
 "cells": [
  {
   "cell_type": "code",
   "execution_count": 167,
   "metadata": {},
   "outputs": [],
   "source": [
    "import numpy as np\n",
    "from numpy.random import choice\n",
    "from scipy.interpolate import LinearNDInterpolator, NearestNDInterpolator\n",
    "from matplotlib import pyplot as plt\n",
    "plt.rcParams['figure.figsize'] = (14, 7)"
   ]
  },
  {
   "cell_type": "code",
   "execution_count": 100,
   "metadata": {},
   "outputs": [],
   "source": [
    "plan_file = r\"C:\\Elie\\Data\\OT\\color.plan\"\n",
    "output_lut_file = r\"C:\\Elie\\Data\\OT\\color-plan.cube\"\n",
    "output_lut_file2 = r\"C:\\Elie\\Data\\OT\\color-plan.nearest-neighbor.cube\"\n",
    "output_lut_file3 = r\"C:\\Elie\\Data\\OT\\color-plan.torch.cube\""
   ]
  },
  {
   "cell_type": "code",
   "execution_count": 21,
   "metadata": {},
   "outputs": [],
   "source": [
    "with open(plan_file, 'rb') as f:\n",
    "    f.read(4)\n",
    "    data = np.fromfile(f, dtype='d').reshape(-1,2,3)"
   ]
  },
  {
   "cell_type": "code",
   "execution_count": 58,
   "metadata": {},
   "outputs": [],
   "source": [
    "subset = choice(data.shape[0], 100240, replace=False)\n",
    "xdata = data[subset,0,:]\n",
    "ydata = data[subset,1,:]"
   ]
  },
  {
   "cell_type": "code",
   "execution_count": 106,
   "metadata": {},
   "outputs": [],
   "source": [
    "def export_lut(lut, filename):\n",
    "    if type(lut) == torch.Tensor:\n",
    "        lut = lut.detach().numpy()\n",
    "    with open(filename, 'w') as f:\n",
    "        f.write(\"LUT_3D_SIZE 64\\n\")\n",
    "        for r,g,b in np.nan_to_num(lut, 0):\n",
    "            f.write(f\"{r:.04f} {g:.04f} {b:.04f}\\n\")"
   ]
  },
  {
   "cell_type": "markdown",
   "metadata": {
    "heading_collapsed": true
   },
   "source": [
    "## Linear Interpolator"
   ]
  },
  {
   "cell_type": "code",
   "execution_count": 59,
   "metadata": {
    "hidden": true
   },
   "outputs": [],
   "source": [
    "model = LinearNDInterpolator(xdata, ydata)"
   ]
  },
  {
   "cell_type": "code",
   "execution_count": 60,
   "metadata": {
    "hidden": true
   },
   "outputs": [
    {
     "data": {
      "text/plain": [
       "array([[ 0.00256583,  0.00611796, -0.00902064]])"
      ]
     },
     "execution_count": 60,
     "metadata": {},
     "output_type": "execute_result"
    }
   ],
   "source": [
    "model([0,0,0])"
   ]
  },
  {
   "cell_type": "code",
   "execution_count": 61,
   "metadata": {
    "hidden": true
   },
   "outputs": [],
   "source": [
    "grid = np.mgrid[:64,:64,:64].transpose(3,2,1,0).reshape(-1,3) / (64 - 1)"
   ]
  },
  {
   "cell_type": "code",
   "execution_count": 62,
   "metadata": {
    "hidden": true
   },
   "outputs": [
    {
     "data": {
      "text/plain": [
       "array([[ 0.00256583,  0.00611796, -0.00902064],\n",
       "       [ 0.01677362,  0.00773954, -0.00804585],\n",
       "       [ 0.02657761,  0.0119001 , -0.00856904],\n",
       "       ...,\n",
       "       [        nan,         nan,         nan],\n",
       "       [        nan,         nan,         nan],\n",
       "       [        nan,         nan,         nan]])"
      ]
     },
     "execution_count": 62,
     "metadata": {},
     "output_type": "execute_result"
    }
   ],
   "source": [
    "model(grid)"
   ]
  },
  {
   "cell_type": "code",
   "execution_count": 63,
   "metadata": {
    "hidden": true
   },
   "outputs": [],
   "source": [
    "lut=_"
   ]
  },
  {
   "cell_type": "code",
   "execution_count": 67,
   "metadata": {
    "hidden": true
   },
   "outputs": [],
   "source": [
    "with open(output_lut_file, 'w') as f:\n",
    "    f.write(\"LUT_3D_SIZE 64\\n\")\n",
    "    for r,g,b in np.nan_to_num(lut, 0):\n",
    "        f.write(f\"{r} {g} {b}\\n\")"
   ]
  },
  {
   "cell_type": "markdown",
   "metadata": {
    "heading_collapsed": true
   },
   "source": [
    "## Nearest Neighbor Interpolator"
   ]
  },
  {
   "cell_type": "code",
   "execution_count": 74,
   "metadata": {
    "hidden": true
   },
   "outputs": [],
   "source": [
    "model2 = NearestNDInterpolator(xdata, ydata)"
   ]
  },
  {
   "cell_type": "code",
   "execution_count": 78,
   "metadata": {
    "hidden": true
   },
   "outputs": [],
   "source": [
    "lut = model2(grid)"
   ]
  },
  {
   "cell_type": "code",
   "execution_count": 80,
   "metadata": {
    "hidden": true
   },
   "outputs": [],
   "source": [
    "with open(output_lut_file2, 'w') as f:\n",
    "    f.write(\"LUT_3D_SIZE 64\\n\")\n",
    "    for r,g,b in np.nan_to_num(lut, 0):\n",
    "        f.write(f\"{r:.04f} {g:.04f} {b:.04f}\\n\")"
   ]
  },
  {
   "cell_type": "markdown",
   "metadata": {},
   "source": [
    "## Neural Networks"
   ]
  },
  {
   "cell_type": "code",
   "execution_count": 154,
   "metadata": {},
   "outputs": [],
   "source": [
    "import torch\n",
    "import torch.nn as nn\n",
    "import torch.nn.functional as F\n",
    "import torch.optim as optim\n",
    "from torch.utils.data import TensorDataset, DataLoader"
   ]
  },
  {
   "cell_type": "code",
   "execution_count": 155,
   "metadata": {},
   "outputs": [],
   "source": [
    "use_cuda = torch.cuda.is_available()\n",
    "device = torch.device(\"cuda:0\" if use_cuda else \"cpu\")"
   ]
  },
  {
   "cell_type": "code",
   "execution_count": 114,
   "metadata": {},
   "outputs": [],
   "source": [
    "tgrid = torch.from_numpy(grid.astype('f'))\n",
    "txdata = torch.from_numpy(xdata.astype('f'))\n",
    "tydata = torch.from_numpy(ydata.astype('f'))"
   ]
  },
  {
   "cell_type": "code",
   "execution_count": 684,
   "metadata": {},
   "outputs": [],
   "source": [
    "class ColorTransferNet(nn.Module):\n",
    "    def __init__(self, hidden=30):\n",
    "        super().__init__()\n",
    "        self.fc1 = nn.Linear(3, hidden)\n",
    "        self.fc2init = nn.Linear(hidden, 3)\n",
    "        for p in self.fc2init.parameters():\n",
    "            p.requires_grad = False\n",
    "        self.do1 = nn.Dropout(0.5)\n",
    "        self.fc2 = nn.Linear(hidden, 3)\n",
    "        self.init = True\n",
    "        \n",
    "    def finish_init(self):\n",
    "        self.init = False\n",
    "        \n",
    "    def forward(self, x):\n",
    "        #x -= 0.5\n",
    "        x = self.fc1(x)\n",
    "        if self.init:\n",
    "            x = self.fc2init(x)\n",
    "            return x\n",
    "        #x = torch.sigmoid(x)\n",
    "        x = torch.relu(x)\n",
    "        #x = self.do1(x)\n",
    "        x = self.fc2(x)\n",
    "        return x"
   ]
  },
  {
   "cell_type": "code",
   "execution_count": 685,
   "metadata": {},
   "outputs": [],
   "source": [
    "model = ColorTransferNet(hidden=24).to(device)"
   ]
  },
  {
   "cell_type": "code",
   "execution_count": 686,
   "metadata": {},
   "outputs": [],
   "source": [
    "lut = model(tgrid.to(device)).cpu()"
   ]
  },
  {
   "cell_type": "code",
   "execution_count": 687,
   "metadata": {},
   "outputs": [],
   "source": [
    "export_lut(lut, output_lut_file3)"
   ]
  },
  {
   "cell_type": "code",
   "execution_count": 688,
   "metadata": {},
   "outputs": [],
   "source": [
    "#optimizer = optim.SGD(model.parameters(), lr=1e-3, momentum=0.95)\n",
    "optimizer = optim.Adam(model.parameters(), lr=1e-3)\n",
    "#optimizer = optim.AdamW(model.parameters(), lr=5e-2)"
   ]
  },
  {
   "cell_type": "code",
   "execution_count": 689,
   "metadata": {},
   "outputs": [],
   "source": [
    "loss_fn = nn.MSELoss(reduction='sum')"
   ]
  },
  {
   "cell_type": "code",
   "execution_count": 690,
   "metadata": {},
   "outputs": [],
   "source": [
    "dataset = TensorDataset(txdata,tydata)\n",
    "data_loader = DataLoader(\n",
    "    dataset,\n",
    "    batch_size=256,\n",
    "    shuffle=True,\n",
    ")"
   ]
  },
  {
   "cell_type": "code",
   "execution_count": 706,
   "metadata": {},
   "outputs": [
    {
     "name": "stdout",
     "output_type": "stream",
     "text": [
      "iteration #0: loss = 0.14497788434810177\n",
      "iteration #1: loss = 0.1463130772760024\n",
      "iteration #2: loss = 0.14511883002230708\n",
      "iteration #3: loss = 0.14445480132209404\n",
      "iteration #4: loss = 0.14495735615491867\n",
      "iteration #5: loss = 0.1446895679763081\n",
      "iteration #6: loss = 0.14513562260461704\n",
      "iteration #7: loss = 0.1446232765114733\n",
      "iteration #8: loss = 0.14451578014283156\n",
      "iteration #9: loss = 0.14487026878917703\n",
      "iteration #10: loss = 0.14479401834993338\n",
      "iteration #11: loss = 0.1449712456337043\n",
      "iteration #12: loss = 0.1439719196903158\n",
      "iteration #13: loss = 0.14433447117632142\n",
      "iteration #14: loss = 0.14366319387847062\n",
      "iteration #15: loss = 0.1433882020337849\n",
      "iteration #16: loss = 0.1436203381768903\n",
      "iteration #17: loss = 0.14411291582699942\n",
      "iteration #18: loss = 0.144199740103617\n",
      "iteration #19: loss = 0.14390824362635612\n"
     ]
    }
   ],
   "source": [
    "max_epochs = 20\n",
    "loss_log = []\n",
    "for epoch in range(max_epochs):\n",
    "    tot_loss = 0.0\n",
    "    iterations = 0\n",
    "    for batch_ndx, sample in enumerate(data_loader):\n",
    "        x, y = sample[0].to(device), sample[1].to(device)\n",
    "        y_pred = model(x)\n",
    "        loss = loss_fn(y_pred, y)\n",
    "        tot_loss += loss.item()\n",
    "        optimizer.zero_grad()\n",
    "        loss.backward()\n",
    "        optimizer.step()\n",
    "        iterations += 1\n",
    "    tot_loss /= iterations\n",
    "    loss_log.append(tot_loss)\n",
    "    print(f\"iteration #{epoch}: loss = {tot_loss}\")"
   ]
  },
  {
   "cell_type": "code",
   "execution_count": 707,
   "metadata": {},
   "outputs": [
    {
     "data": {
      "image/png": "[encoded data removed]",
      "text/plain": [
       "<Figure size 1008x504 with 1 Axes>"
      ]
     },
     "metadata": {
      "needs_background": "light"
     },
     "output_type": "display_data"
    }
   ],
   "source": [
    "plt.plot(loss_log)\n",
    "plt.show()"
   ]
  },
  {
   "cell_type": "code",
   "execution_count": 694,
   "metadata": {},
   "outputs": [],
   "source": [
    "model.finish_init()"
   ]
  },
  {
   "cell_type": "code",
   "execution_count": 632,
   "metadata": {},
   "outputs": [
    {
     "data": {
      "text/plain": [
       "1.0431222655639356"
      ]
     },
     "execution_count": 632,
     "metadata": {},
     "output_type": "execute_result"
    }
   ],
   "source": [
    "loss_log[-1]"
   ]
  },
  {
   "cell_type": "code",
   "execution_count": 708,
   "metadata": {},
   "outputs": [],
   "source": [
    "lut = model(tgrid.to(device)).cpu()"
   ]
  },
  {
   "cell_type": "code",
   "execution_count": 709,
   "metadata": {},
   "outputs": [],
   "source": [
    "export_lut(lut, output_lut_file3)"
   ]
  },
  {
   "cell_type": "code",
   "execution_count": 681,
   "metadata": {},
   "outputs": [
    {
     "data": {
      "text/plain": [
       "<matplotlib.image.AxesImage at 0x2ba0afa52e0>"
      ]
     },
     "execution_count": 681,
     "metadata": {},
     "output_type": "execute_result"
    },
    {
     "data": {
      "image/png": "[encoded data removed]",
      "text/plain": [
       "<Figure size 1008x504 with 1 Axes>"
      ]
     },
     "metadata": {
      "needs_background": "light"
     },
     "output_type": "display_data"
    }
   ],
   "source": [
    "plt.imshow(model.fc1.weight.data.cpu().numpy())"
   ]
  },
  {
   "cell_type": "code",
   "execution_count": 636,
   "metadata": {},
   "outputs": [
    {
     "data": {
      "text/plain": [
       "<matplotlib.image.AxesImage at 0x2ba0b059310>"
      ]
     },
     "execution_count": 636,
     "metadata": {},
     "output_type": "execute_result"
    },
    {
     "data": {
      "image/png": "[encoded data removed]",
      "text/plain": [
       "<Figure size 1008x504 with 1 Axes>"
      ]
     },
     "metadata": {
      "needs_background": "light"
     },
     "output_type": "display_data"
    }
   ],
   "source": [
    "plt.imshow(model.fc2init.weight.data.cpu().numpy())"
   ]
  },
  {
   "cell_type": "markdown",
   "metadata": {},
   "source": [
    "Une recette qui marche un peu (loss de .25) :  \n",
    "24 neuronnes cachés, relu  \n",
    "optimizer = optim.Adam(model.parameters(), lr=1e-3)  \n",
    "et 10 étapes avant d'appeler model.finish_init()  \n",
    "puis ensuite beaucoup d'étapes  "
   ]
  },
  {
   "cell_type": "markdown",
   "metadata": {},
   "source": [
    "## More than one hidden layer"
   ]
  },
  {
   "cell_type": "code",
   "execution_count": 764,
   "metadata": {},
   "outputs": [],
   "source": [
    "class ColorTransferNet2(nn.Module):\n",
    "    def __init__(self, hidden=30):\n",
    "        super().__init__()\n",
    "        self.fc1 = nn.Linear(3, hidden)\n",
    "        self.fc2init = nn.Linear(hidden, 3)\n",
    "        for p in self.fc2init.parameters():\n",
    "            p.requires_grad = False\n",
    "        self.do1 = nn.Dropout(0.5)\n",
    "        self.fc2 = nn.Linear(hidden, hidden)\n",
    "        self.fc3 = nn.Linear(hidden, 3)\n",
    "        self.act = torch.sigmoid\n",
    "        #self.act = F.relu\n",
    "        self.init = True\n",
    "        \n",
    "    def finish_init(self):\n",
    "        self.init = False\n",
    "        \n",
    "    def forward(self, x):\n",
    "        x = self.fc1(x)\n",
    "        if self.init:\n",
    "            x = self.fc2init(x)\n",
    "            return x\n",
    "        x = self.act(x)\n",
    "        #x = self.do1(x)\n",
    "        x = self.fc2(x)\n",
    "        x = self.act(x)\n",
    "        x = self.fc3(x)\n",
    "        return x"
   ]
  },
  {
   "cell_type": "code",
   "execution_count": 765,
   "metadata": {},
   "outputs": [],
   "source": [
    "model = ColorTransferNet2(hidden=12).to(device)"
   ]
  },
  {
   "cell_type": "code",
   "execution_count": 766,
   "metadata": {},
   "outputs": [],
   "source": [
    "#optimizer = optim.SGD(model.parameters(), lr=1e-3, momentum=0.95)\n",
    "optimizer = optim.Adam(model.parameters(), lr=1e-3)\n",
    "#optimizer = optim.AdamW(model.parameters(), lr=5e-2)"
   ]
  },
  {
   "cell_type": "code",
   "execution_count": 767,
   "metadata": {},
   "outputs": [],
   "source": [
    "def train_epoch():\n",
    "    tot_loss = 0.0\n",
    "    iterations = 0\n",
    "    for batch_ndx, sample in enumerate(data_loader):\n",
    "        x, y = sample[0].to(device), sample[1].to(device)\n",
    "        y_pred = model(x)\n",
    "        loss = loss_fn(y_pred, y)\n",
    "        tot_loss += loss.item()\n",
    "        optimizer.zero_grad()\n",
    "        loss.backward()\n",
    "        optimizer.step()\n",
    "        iterations += 1\n",
    "    return tot_loss / iterations"
   ]
  },
  {
   "cell_type": "code",
   "execution_count": 801,
   "metadata": {
    "scrolled": true
   },
   "outputs": [
    {
     "name": "stdout",
     "output_type": "stream",
     "text": [
      "iteration #0: loss = 0.04473457731572645\n",
      "iteration #1: loss = 0.04466511527722587\n",
      "iteration #2: loss = 0.0448086886923304\n",
      "iteration #3: loss = 0.0448881804952588\n",
      "iteration #4: loss = 0.04472611390282305\n",
      "iteration #5: loss = 0.0444883762108048\n",
      "iteration #6: loss = 0.044759936578457754\n",
      "iteration #7: loss = 0.04459629032038608\n",
      "iteration #8: loss = 0.0445612440912091\n",
      "iteration #9: loss = 0.044470819340524624\n",
      "iteration #10: loss = 0.044432889869702716\n",
      "iteration #11: loss = 0.044170685497359655\n",
      "iteration #12: loss = 0.04462002715742101\n",
      "iteration #13: loss = 0.04434664740360209\n",
      "iteration #14: loss = 0.04431508249622219\n",
      "iteration #15: loss = 0.04442071608666863\n",
      "iteration #16: loss = 0.04425190230451372\n",
      "iteration #17: loss = 0.04390986139734029\n",
      "iteration #18: loss = 0.04409351941122084\n",
      "iteration #19: loss = 0.043812568004870295\n",
      "iteration #20: loss = 0.04399321017292689\n",
      "iteration #21: loss = 0.043880294557014594\n",
      "iteration #22: loss = 0.04411833078068282\n",
      "iteration #23: loss = 0.04379948390153598\n",
      "iteration #24: loss = 0.044112837664326845\n",
      "iteration #25: loss = 0.043660764967338464\n",
      "iteration #26: loss = 0.04354591260436086\n",
      "iteration #27: loss = 0.04360090467451634\n",
      "iteration #28: loss = 0.04362064440810711\n",
      "iteration #29: loss = 0.043413119647195755\n",
      "iteration #30: loss = 0.04341010195298158\n",
      "iteration #31: loss = 0.043482848984778534\n",
      "iteration #32: loss = 0.04345780634796437\n",
      "iteration #33: loss = 0.04328303480026673\n",
      "iteration #34: loss = 0.043394389913930576\n",
      "iteration #35: loss = 0.04350083326084577\n",
      "iteration #36: loss = 0.04325892922126365\n",
      "iteration #37: loss = 0.04309954970352808\n",
      "iteration #38: loss = 0.04313833836694153\n",
      "iteration #39: loss = 0.04318306229210326\n",
      "iteration #40: loss = 0.043218645124639174\n",
      "iteration #41: loss = 0.043035391357024104\n",
      "iteration #42: loss = 0.043101422042034716\n",
      "iteration #43: loss = 0.04281888111038323\n",
      "iteration #44: loss = 0.042871701873230694\n",
      "iteration #45: loss = 0.043117436352280936\n",
      "iteration #46: loss = 0.04288374785599964\n",
      "iteration #47: loss = 0.042684823764031946\n",
      "iteration #48: loss = 0.04305411765009773\n",
      "iteration #49: loss = 0.042688541817573866\n",
      "iteration #50: loss = 0.04283052444343968\n",
      "iteration #51: loss = 0.042493328589908015\n",
      "iteration #52: loss = 0.042774206630847585\n",
      "iteration #53: loss = 0.04261579178748842\n",
      "iteration #54: loss = 0.042793473338100074\n",
      "iteration #55: loss = 0.042623043872834165\n",
      "iteration #56: loss = 0.04238973627323095\n",
      "iteration #57: loss = 0.04221332014766427\n",
      "iteration #58: loss = 0.04271193299613589\n",
      "iteration #59: loss = 0.042588501413143715\n",
      "iteration #60: loss = 0.04223478079906532\n",
      "iteration #61: loss = 0.04225786438934049\n",
      "iteration #62: loss = 0.042154344806105505\n",
      "iteration #63: loss = 0.04245758909561044\n",
      "iteration #64: loss = 0.04211711450669991\n",
      "iteration #65: loss = 0.04221833967698776\n",
      "iteration #66: loss = 0.04211577533611229\n",
      "iteration #67: loss = 0.042075061030229746\n",
      "iteration #68: loss = 0.042087617444292624\n",
      "iteration #69: loss = 0.042121411681327284\n",
      "iteration #70: loss = 0.04187187892194761\n",
      "iteration #71: loss = 0.041948250247811784\n",
      "iteration #72: loss = 0.042034990116193584\n",
      "iteration #73: loss = 0.04169884657639326\n",
      "iteration #74: loss = 0.041916726888822656\n",
      "iteration #75: loss = 0.04166765732937777\n",
      "iteration #76: loss = 0.041954973427464765\n",
      "iteration #77: loss = 0.041888150548068236\n",
      "iteration #78: loss = 0.041842546190458296\n",
      "iteration #79: loss = 0.0415602092754704\n",
      "iteration #80: loss = 0.04170067732849596\n",
      "iteration #81: loss = 0.04165126398509862\n",
      "iteration #82: loss = 0.04177379343012462\n",
      "iteration #83: loss = 0.041464782785624266\n",
      "iteration #84: loss = 0.04171694952006243\n",
      "iteration #85: loss = 0.0415665468258061\n",
      "iteration #86: loss = 0.041650043990539044\n",
      "iteration #87: loss = 0.04134957107943388\n",
      "iteration #88: loss = 0.041580342326541335\n",
      "iteration #89: loss = 0.04133598728352511\n",
      "iteration #90: loss = 0.04143201796889153\n",
      "iteration #91: loss = 0.04141965335501092\n",
      "iteration #92: loss = 0.041122663500053544\n",
      "iteration #93: loss = 0.04146643257129709\n",
      "iteration #94: loss = 0.04132719706192765\n",
      "iteration #95: loss = 0.0411563746973264\n",
      "iteration #96: loss = 0.04112679104092626\n",
      "iteration #97: loss = 0.041061173882145356\n",
      "iteration #98: loss = 0.0412809282769354\n",
      "iteration #99: loss = 0.04107270921504467\n",
      "iteration #100: loss = 0.04119962481401709\n",
      "iteration #101: loss = 0.041136457247431486\n",
      "iteration #102: loss = 0.040889768405076195\n",
      "iteration #103: loss = 0.041102439535743725\n",
      "iteration #104: loss = 0.040965901740009386\n",
      "iteration #105: loss = 0.04086630759114514\n",
      "iteration #106: loss = 0.040870183903001706\n",
      "iteration #107: loss = 0.040985785115852345\n",
      "iteration #108: loss = 0.040919997838648914\n",
      "iteration #109: loss = 0.04075773970261976\n",
      "iteration #110: loss = 0.04073098836447663\n",
      "iteration #111: loss = 0.04068862155022822\n",
      "iteration #112: loss = 0.040738392887370925\n",
      "iteration #113: loss = 0.040762951697355936\n",
      "iteration #114: loss = 0.0407633306411076\n",
      "iteration #115: loss = 0.040777127163446676\n",
      "iteration #116: loss = 0.040722164510730276\n",
      "iteration #117: loss = 0.04067364655321046\n",
      "iteration #118: loss = 0.04055685272003163\n",
      "iteration #119: loss = 0.04068743527334716\n",
      "iteration #120: loss = 0.0404238252026238\n",
      "iteration #121: loss = 0.040694136433873554\n",
      "iteration #122: loss = 0.04068330629747741\n",
      "iteration #123: loss = 0.0403604356866634\n",
      "iteration #124: loss = 0.0404160789128545\n",
      "iteration #125: loss = 0.04029513742983797\n",
      "iteration #126: loss = 0.04038263112781759\n",
      "iteration #127: loss = 0.04052757320697514\n",
      "iteration #128: loss = 0.04034218189724702\n",
      "iteration #129: loss = 0.040501547967825006\n",
      "iteration #130: loss = 0.04020433323172738\n",
      "iteration #131: loss = 0.04016420678520689\n",
      "iteration #132: loss = 0.04030316293106547\n",
      "iteration #133: loss = 0.04016914300392477\n",
      "iteration #134: loss = 0.040231890111629455\n",
      "iteration #135: loss = 0.04043770941658592\n",
      "iteration #136: loss = 0.04016366589111181\n",
      "iteration #137: loss = 0.0401743955492061\n",
      "iteration #138: loss = 0.040150791772508194\n",
      "iteration #139: loss = 0.04018744885237241\n",
      "iteration #140: loss = 0.03998822172894618\n",
      "iteration #141: loss = 0.04014967538283339\n",
      "iteration #142: loss = 0.040089698056975494\n",
      "iteration #143: loss = 0.03994806686283222\n",
      "iteration #144: loss = 0.04004920401838513\n",
      "iteration #145: loss = 0.03993754602056377\n",
      "iteration #146: loss = 0.04026757855899632\n",
      "iteration #147: loss = 0.039724486727951744\n",
      "iteration #148: loss = 0.039759021974643885\n",
      "iteration #149: loss = 0.039743105443764706\n",
      "iteration #150: loss = 0.039808743253198206\n",
      "iteration #151: loss = 0.03987087943705217\n",
      "iteration #152: loss = 0.03983220919890671\n",
      "iteration #153: loss = 0.03972826224314619\n",
      "iteration #154: loss = 0.03979225452438149\n",
      "iteration #155: loss = 0.03993796789068348\n",
      "iteration #156: loss = 0.03967391023868505\n",
      "iteration #157: loss = 0.039694039497942646\n",
      "iteration #158: loss = 0.03970975511498293\n",
      "iteration #159: loss = 0.03980460703106863\n",
      "iteration #160: loss = 0.039665239782319686\n",
      "iteration #161: loss = 0.03958169970547362\n",
      "iteration #162: loss = 0.039648071957790125\n",
      "iteration #163: loss = 0.03956905170343816\n",
      "iteration #164: loss = 0.03961772800955389\n",
      "iteration #165: loss = 0.039380940827255954\n",
      "iteration #166: loss = 0.039620471077648045\n",
      "iteration #167: loss = 0.039339053225988636\n",
      "iteration #168: loss = 0.03941957007295319\n",
      "iteration #169: loss = 0.039728157317303885\n",
      "iteration #170: loss = 0.03971884116454392\n",
      "iteration #171: loss = 0.03946911529827939\n",
      "iteration #172: loss = 0.0393526965362609\n",
      "iteration #173: loss = 0.039536420360435635\n",
      "iteration #174: loss = 0.03929964006802409\n",
      "iteration #175: loss = 0.039380713261435836\n",
      "iteration #176: loss = 0.03928756577494953\n",
      "iteration #177: loss = 0.039212270858412494\n",
      "iteration #178: loss = 0.03947166731219967\n",
      "iteration #179: loss = 0.039340146679469216\n",
      "iteration #180: loss = 0.03903135692947829\n",
      "iteration #181: loss = 0.03926714705968542\n",
      "iteration #182: loss = 0.03904551518985964\n",
      "iteration #183: loss = 0.038937942091641684\n",
      "iteration #184: loss = 0.03936808581026841\n",
      "iteration #185: loss = 0.03910208987167143\n",
      "iteration #186: loss = 0.039279692454681714\n",
      "iteration #187: loss = 0.039031280142882346\n",
      "iteration #188: loss = 0.03891884278962199\n",
      "iteration #189: loss = 0.039134502168554734\n",
      "iteration #190: loss = 0.03915888693050614\n",
      "iteration #191: loss = 0.03920482129466777\n"
     ]
    },
    {
     "name": "stdout",
     "output_type": "stream",
     "text": [
      "iteration #192: loss = 0.03886202541750153\n",
      "iteration #193: loss = 0.03899837558975025\n",
      "iteration #194: loss = 0.03896321668004503\n",
      "iteration #195: loss = 0.038975703430229\n",
      "iteration #196: loss = 0.03892277305641649\n",
      "iteration #197: loss = 0.0388570551247317\n",
      "iteration #198: loss = 0.03877913665349538\n",
      "iteration #199: loss = 0.03894426058787776\n"
     ]
    }
   ],
   "source": [
    "max_epochs = 200\n",
    "loss_log = []\n",
    "for epoch in range(max_epochs):\n",
    "    tot_loss = train_epoch()\n",
    "    loss_log.append(tot_loss)\n",
    "    print(f\"iteration #{epoch}: loss = {tot_loss}\")"
   ]
  },
  {
   "cell_type": "code",
   "execution_count": 802,
   "metadata": {},
   "outputs": [
    {
     "data": {
      "image/png": "[encoded data removed]",
      "text/plain": [
       "<Figure size 1008x504 with 1 Axes>"
      ]
     },
     "metadata": {
      "needs_background": "light"
     },
     "output_type": "display_data"
    }
   ],
   "source": [
    "plt.plot(loss_log)\n",
    "plt.show()"
   ]
  },
  {
   "cell_type": "code",
   "execution_count": 774,
   "metadata": {},
   "outputs": [],
   "source": [
    "model.finish_init()"
   ]
  },
  {
   "cell_type": "code",
   "execution_count": 803,
   "metadata": {},
   "outputs": [],
   "source": [
    "lut = model(tgrid.to(device)).cpu()\n",
    "export_lut(lut, output_lut_file3)"
   ]
  },
  {
   "cell_type": "code",
   "execution_count": null,
   "metadata": {},
   "outputs": [],
   "source": []
  }
 ],
 "metadata": {
  "kernelspec": {
   "display_name": "Python 3",
   "language": "python",
   "name": "python3"
  },
  "language_info": {
   "codemirror_mode": {
    "name": "ipython",
    "version": 3
   },
   "file_extension": ".py",
   "mimetype": "text/x-python",
   "name": "python",
   "nbconvert_exporter": "python",
   "pygments_lexer": "ipython3",
   "version": "3.8.6"
  }
 },
 "nbformat": 4,
 "nbformat_minor": 4
}
